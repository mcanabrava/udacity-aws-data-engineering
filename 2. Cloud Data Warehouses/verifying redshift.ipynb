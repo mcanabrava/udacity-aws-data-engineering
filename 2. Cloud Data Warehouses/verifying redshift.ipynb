{
 "cells": [
  {
   "cell_type": "code",
   "execution_count": null,
   "id": "c8420f17",
   "metadata": {},
   "outputs": [],
   "source": [
    "## My Redshift query editor is not working via console, so I decided to query the tables using boto3"
   ]
  },
  {
   "cell_type": "code",
   "execution_count": null,
   "id": "1df5a05f",
   "metadata": {},
   "outputs": [],
   "source": [
    "import boto3\n",
    "import psycopg2\n",
    "import configparser\n",
    "import pandas as pd"
   ]
  },
  {
   "cell_type": "code",
   "execution_count": null,
   "id": "7064f8d4",
   "metadata": {},
   "outputs": [],
   "source": [
    "config = configparser.ConfigParser()\n",
    "config.read_file(open('dwh.cfg'))\n",
    "KEY                    = config.get('AWS','KEY')\n",
    "SECRET                 = config.get('AWS','SECRET')\n",
    "\n",
    "DWH_CLUSTER_TYPE       = config.get(\"DWH\",\"DWH_CLUSTER_TYPE\")\n",
    "DWH_NUM_NODES          = config.get(\"DWH\",\"DWH_NUM_NODES\")\n",
    "DWH_NODE_TYPE          = config.get(\"DWH\",\"DWH_NODE_TYPE\")\n",
    "\n",
    "DWH_CLUSTER_IDENTIFIER = config.get(\"DWH\",\"DWH_CLUSTER_IDENTIFIER\")\n",
    "DWH_DB                 = config.get(\"DWH\",\"DWH_DB\")\n",
    "DWH_DB_USER            = config.get(\"DWH\",\"DWH_DB_USER\")\n",
    "DWH_DB_PASSWORD        = config.get(\"DWH\",\"DWH_DB_PASSWORD\")\n",
    "DWH_PORT               = config.get(\"DWH\",\"DWH_PORT\")\n",
    "\n",
    "DWH_IAM_ROLE_NAME      = config.get(\"DWH\", \"DWH_IAM_ROLE_NAME\")\n",
    "\n",
    "CLUSTER_ENDPOINT = config.get(\"CLUSTER\", \"HOST\")\n",
    "PORT = config.get(\"CLUSTER\", \"DWH_PORT\")\n",
    "\n",
    "pd.DataFrame({\"Param\":\n",
    "                  [\"DWH_CLUSTER_TYPE\", \"DWH_NUM_NODES\", \"DWH_NODE_TYPE\", \"DWH_CLUSTER_IDENTIFIER\", \"DWH_DB\", \"DWH_DB_USER\", \"DWH_DB_PASSWORD\", \"DWH_PORT\", \"DWH_IAM_ROLE_NAME\", \"CLUSTER_ENDPOINT\"],\n",
    "              \"Value\":\n",
    "                  [DWH_CLUSTER_TYPE, DWH_NUM_NODES, DWH_NODE_TYPE, DWH_CLUSTER_IDENTIFIER, DWH_DB, DWH_DB_USER, DWH_DB_PASSWORD, DWH_PORT, DWH_IAM_ROLE_NAME, CLUSTER_ENDPOINT]\n",
    "             })\n"
   ]
  },
  {
   "cell_type": "code",
   "execution_count": null,
   "id": "8778a980",
   "metadata": {},
   "outputs": [],
   "source": [
    "# Connect to Redshift cluster\n",
    "try:\n",
    "    conn = psycopg2.connect(\n",
    "        host=CLUSTER_ENDPOINT,\n",
    "        port=PORT,\n",
    "        database=DWH_DB,\n",
    "        user=DWH_DB_USER,\n",
    "        password=DWH_DB_PASSWORD\n",
    "    )\n",
    "except Exception as e:\n",
    "    print(\"Error connecting to Redshift cluster:\", e)\n",
    "    raise e"
   ]
  },
  {
   "cell_type": "code",
   "execution_count": null,
   "id": "8e23ff32",
   "metadata": {},
   "outputs": [],
   "source": [
    "# List all tables\n",
    "cur = conn.cursor()\n",
    "cur.execute(\"SELECT tablename FROM pg_tables WHERE schemaname='public'\")\n",
    "tables = cur.fetchall()\n",
    "\n",
    "# Print the list of tables\n",
    "print(\"Existing tables:\")\n",
    "for table in tables:\n",
    "    print(table[0])"
   ]
  },
  {
   "cell_type": "code",
   "execution_count": null,
   "id": "76f7f7d5",
   "metadata": {},
   "outputs": [],
   "source": [
    "# Fetch and count rows for each table\n",
    "for table in tables:\n",
    "    table_name = table[0]\n",
    "    cur.execute(f\"SELECT COUNT(*) FROM {table_name}\")\n",
    "    count = cur.fetchone()[0]\n",
    "    print(f\"Table {table_name} has {count} rows\")\n"
   ]
  },
  {
   "cell_type": "code",
   "execution_count": null,
   "id": "e1d81af9",
   "metadata": {},
   "outputs": [],
   "source": [
    "# Close connection\n",
    "conn.close()"
   ]
  }
 ],
 "metadata": {
  "kernelspec": {
   "display_name": "Python 3 (ipykernel)",
   "language": "python",
   "name": "python3"
  },
  "language_info": {
   "codemirror_mode": {
    "name": "ipython",
    "version": 3
   },
   "file_extension": ".py",
   "mimetype": "text/x-python",
   "name": "python",
   "nbconvert_exporter": "python",
   "pygments_lexer": "ipython3",
   "version": "3.10.4"
  }
 },
 "nbformat": 4,
 "nbformat_minor": 5
}
