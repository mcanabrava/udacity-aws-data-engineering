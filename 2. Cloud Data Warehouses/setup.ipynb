{
 "cells": [
  {
   "cell_type": "code",
   "execution_count": null,
   "id": "a88253fa",
   "metadata": {},
   "outputs": [],
   "source": [
    "import boto3\n",
    "import json\n",
    "import configparser\n",
    "from botocore.exceptions import ClientError\n",
    "import time\n",
    "import pandas as pd"
   ]
  },
  {
   "cell_type": "code",
   "execution_count": null,
   "id": "f0cf7512",
   "metadata": {},
   "outputs": [],
   "source": [
    "config = configparser.ConfigParser()\n",
    "config.read_file(open('dwh.cfg'))\n",
    "KEY                    = config.get('AWS','KEY')\n",
    "SECRET                 = config.get('AWS','SECRET')\n",
    "\n",
    "DWH_CLUSTER_TYPE       = config.get(\"DWH\",\"DWH_CLUSTER_TYPE\")\n",
    "DWH_NUM_NODES          = config.get(\"DWH\",\"DWH_NUM_NODES\")\n",
    "DWH_NODE_TYPE          = config.get(\"DWH\",\"DWH_NODE_TYPE\")\n",
    "\n",
    "DWH_CLUSTER_IDENTIFIER = config.get(\"DWH\",\"DWH_CLUSTER_IDENTIFIER\")\n",
    "DWH_DB                 = config.get(\"DWH\",\"DWH_DB\")\n",
    "DWH_DB_USER            = config.get(\"DWH\",\"DWH_DB_USER\")\n",
    "DWH_DB_PASSWORD        = config.get(\"DWH\",\"DWH_DB_PASSWORD\")\n",
    "DWH_PORT               = config.get(\"DWH\",\"DWH_PORT\")\n",
    "\n",
    "DWH_IAM_ROLE_NAME      = config.get(\"DWH\", \"DWH_IAM_ROLE_NAME\")\n",
    "\n",
    "pd.DataFrame({\"Param\":\n",
    "                  [\"DWH_CLUSTER_TYPE\", \"DWH_NUM_NODES\", \"DWH_NODE_TYPE\", \"DWH_CLUSTER_IDENTIFIER\", \"DWH_DB\", \"DWH_DB_USER\", \"DWH_DB_PASSWORD\", \"DWH_PORT\", \"DWH_IAM_ROLE_NAME\"],\n",
    "              \"Value\":\n",
    "                  [DWH_CLUSTER_TYPE, DWH_NUM_NODES, DWH_NODE_TYPE, DWH_CLUSTER_IDENTIFIER, DWH_DB, DWH_DB_USER, DWH_DB_PASSWORD, DWH_PORT, DWH_IAM_ROLE_NAME]\n",
    "             })"
   ]
  },
  {
   "cell_type": "code",
   "execution_count": null,
   "id": "17c4c9ea",
   "metadata": {},
   "outputs": [],
   "source": [
    "# Create clients for EC2, S3, IAM, and Redshift\n",
    "ec2 = boto3.resource('ec2', \n",
    "                     region_name='us-east-1',\n",
    "                     aws_access_key_id=KEY,\n",
    "                     aws_secret_access_key=SECRET)\n",
    "\n",
    "iam = boto3.client('iam',\n",
    "                   region_name='us-east-1',\n",
    "                   aws_access_key_id=KEY,\n",
    "                   aws_secret_access_key=SECRET)\n",
    "\n",
    "redshift = boto3.client('redshift',\n",
    "                        region_name=\"us-east-1\",\n",
    "                        aws_access_key_id=KEY,\n",
    "                        aws_secret_access_key=SECRET)\n",
    "\n",
    "\n",
    "s3 = boto3.resource('s3',\n",
    "                       region_name=\"us-east-1\",\n",
    "                       aws_access_key_id=KEY,\n",
    "                       aws_secret_access_key=SECRET\n",
    "                   )"
   ]
  },
  {
   "cell_type": "code",
   "execution_count": null,
   "id": "95885990",
   "metadata": {},
   "outputs": [],
   "source": [
    "### CREATING IAM ROLE\n",
    "\n",
    "def create_IAM_Role(iam, DWH_IAM_ROLE_NAME):\n",
    "    try:\n",
    "        print(\"Creating a new IAM Role\")\n",
    "        dwhRole = iam.create_role(\n",
    "            Path=\"/\",\n",
    "            RoleName=DWH_IAM_ROLE_NAME,\n",
    "            Description=\"Allows Redshift clusters to call AWS services on your behalf.\",\n",
    "            AssumeRolePolicyDocument=json.dumps(\n",
    "                {\n",
    "                    \"Statement\": [\n",
    "                        {\n",
    "                            \"Action\": \"sts:AssumeRole\",\n",
    "                            \"Effect\": \"Allow\",\n",
    "                            \"Principal\": {\"Service\": \"redshift.amazonaws.com\"},\n",
    "                        }\n",
    "                    ],\n",
    "                    \"Version\": \"2012-10-17\",\n",
    "                }\n",
    "            ),\n",
    "        )\n",
    "    except Exception as e:\n",
    "        print(\"       \" + str(e))\n",
    "\n",
    "    print(\"Attaching Policy\")\n",
    "\n",
    "    iam.attach_role_policy(\n",
    "        RoleName=DWH_IAM_ROLE_NAME,\n",
    "        PolicyArn=\"arn:aws:iam::aws:policy/AmazonS3ReadOnlyAccess\",\n",
    "    )[\"ResponseMetadata\"][\"HTTPStatusCode\"]\n",
    "\n",
    "    print(\"Getting the IAM role ARN\")\n",
    "    roleArn = iam.get_role(RoleName=DWH_IAM_ROLE_NAME)[\"Role\"][\"Arn\"]\n",
    "    print(\"       IAM role ARN: \" + roleArn)\n",
    "    return roleArn\n",
    "\n",
    "create_IAM_Role(iam, DWH_IAM_ROLE_NAME)\n",
    "print(\"Role Created\")\n",
    "\n",
    "roleArn = iam.get_role(RoleName=DWH_IAM_ROLE_NAME)[\"Role\"][\"Arn\"]\n",
    "print(\"Role ARN:  \" + roleArn)"
   ]
  },
  {
   "cell_type": "code",
   "execution_count": null,
   "id": "5c484b4f",
   "metadata": {},
   "outputs": [],
   "source": [
    "sampleDbBucket =  s3.Bucket(\"awssampledbuswest2\")\n",
    "for obj in sampleDbBucket.objects.filter(Prefix=\"ssbgz\"):\n",
    "    print(obj)\n",
    "# for obj in sampleDbBucket.objects.all():\n",
    "#     print(obj)"
   ]
  },
  {
   "cell_type": "code",
   "execution_count": null,
   "id": "54bbb64a",
   "metadata": {},
   "outputs": [],
   "source": [
    "# Create the Redshift cluster\n",
    "try:\n",
    "    response = redshift.create_cluster(        \n",
    "        #HW\n",
    "        ClusterType=DWH_CLUSTER_TYPE,\n",
    "        NodeType=DWH_NODE_TYPE,\n",
    "        NumberOfNodes=int(DWH_NUM_NODES),\n",
    "\n",
    "        #Identifiers & Credentials\n",
    "        DBName=DWH_DB,\n",
    "        ClusterIdentifier=DWH_CLUSTER_IDENTIFIER,\n",
    "        MasterUsername=DWH_DB_USER,\n",
    "        MasterUserPassword=DWH_DB_PASSWORD,\n",
    "        \n",
    "        #Roles (for s3 access)\n",
    "        IamRoles=[roleArn],\n",
    "        \n",
    "        #Adding default and redshift security group\n",
    "        VpcSecurityGroupIds=['sg-0f506cb55b40be268', 'sg-0b71fb5617de2365b']\n",
    "    )\n",
    "except Exception as e:\n",
    "    print(e)"
   ]
  },
  {
   "cell_type": "code",
   "execution_count": null,
   "id": "a6716e89",
   "metadata": {},
   "outputs": [],
   "source": [
    "## Creating the cluster might take from 3-15m\n",
    "\n",
    "def prettyRedshiftProps(props):\n",
    "    pd.set_option('display.max_colwidth', -1)\n",
    "    keysToShow = [\"ClusterIdentifier\", \"NodeType\", \"ClusterStatus\", \"MasterUsername\", \"DBName\", \"Endpoint\", \"NumberOfNodes\", 'VpcId']\n",
    "    x = [(k, v) for k,v in props.items() if k in keysToShow]\n",
    "    return pd.DataFrame(data=x, columns=[\"Key\", \"Value\"])\n",
    "\n",
    "myClusterProps = redshift.describe_clusters(ClusterIdentifier=DWH_CLUSTER_IDENTIFIER)['Clusters'][0]\n",
    "prettyRedshiftProps(myClusterProps)"
   ]
  },
  {
   "cell_type": "code",
   "execution_count": null,
   "id": "0546d6dc",
   "metadata": {},
   "outputs": [],
   "source": [
    "DWH_ENDPOINT = myClusterProps['Endpoint']['Address']\n",
    "DWH_ROLE_ARN = myClusterProps['IamRoles'][0]['IamRoleArn']\n",
    "print(\"DWH_ENDPOINT :: \", DWH_ENDPOINT)\n",
    "print(\"DWH_ROLE_ARN :: \", DWH_ROLE_ARN)"
   ]
  },
  {
   "cell_type": "code",
   "execution_count": null,
   "id": "96820951",
   "metadata": {},
   "outputs": [],
   "source": [
    "# Open an incoming  TCP port to access the cluster endpoint\n",
    "try:\n",
    "    vpc = ec2.Vpc(id=myClusterProps['VpcId'])\n",
    "    defaultSg = list(vpc.security_groups.all())[0]\n",
    "    print(defaultSg)\n",
    "    defaultSg.authorize_ingress(\n",
    "        GroupName=defaultSg.group_name,\n",
    "        CidrIp='0.0.0.0/0',\n",
    "        IpProtocol='TCP',\n",
    "        FromPort=int(DWH_PORT),\n",
    "        ToPort=int(DWH_PORT)\n",
    "    )\n",
    "except Exception as e:\n",
    "    print(e)"
   ]
  },
  {
   "cell_type": "code",
   "execution_count": null,
   "id": "aa1e3e4d",
   "metadata": {},
   "outputs": [],
   "source": [
    "%reload_ext sql"
   ]
  },
  {
   "cell_type": "code",
   "execution_count": null,
   "id": "990a5dd1",
   "metadata": {},
   "outputs": [],
   "source": [
    "conn_string=\"postgresql://{}:{}@{}:{}/{}\".format(DWH_DB_USER, DWH_DB_PASSWORD, DWH_ENDPOINT, DWH_PORT,DWH_DB)\n",
    "print(conn_string)\n",
    "%sql $conn_string"
   ]
  },
  {
   "cell_type": "code",
   "execution_count": null,
   "id": "ac16a22b",
   "metadata": {},
   "outputs": [],
   "source": [
    "print(\"Execution finished, please add your redshift database and IAM role info to dwh.cfg before proceeding to create tables\")"
   ]
  }
 ],
 "metadata": {
  "kernelspec": {
   "display_name": "Python 3 (ipykernel)",
   "language": "python",
   "name": "python3"
  },
  "language_info": {
   "codemirror_mode": {
    "name": "ipython",
    "version": 3
   },
   "file_extension": ".py",
   "mimetype": "text/x-python",
   "name": "python",
   "nbconvert_exporter": "python",
   "pygments_lexer": "ipython3",
   "version": "3.10.4"
  }
 },
 "nbformat": 4,
 "nbformat_minor": 5
}
